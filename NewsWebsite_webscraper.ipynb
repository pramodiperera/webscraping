{
 "cells": [
  {
   "cell_type": "markdown",
   "id": "746d05ab",
   "metadata": {},
   "source": [
    "# Extract news articles from a website"
   ]
  },
  {
   "cell_type": "code",
   "execution_count": 32,
   "id": "adaf4021",
   "metadata": {},
   "outputs": [],
   "source": [
    "from bs4 import BeautifulSoup\n",
    "import requests\n",
    "import pandas as pd\n",
    "import re"
   ]
  },
  {
   "cell_type": "code",
   "execution_count": 6,
   "id": "122858bb",
   "metadata": {
    "scrolled": true
   },
   "outputs": [],
   "source": [
    "# website url\n",
    "url = 'https://www.hirunews.lk/english/local-news.php?pageID=1'\n",
    "\n",
    "# download the content of the page\n",
    "data = requests.get(url).text\n",
    "\n",
    "# create a BeautifulSoup object\n",
    "soup = BeautifulSoup(data, \"html.parser\")"
   ]
  },
  {
   "cell_type": "code",
   "execution_count": 83,
   "id": "f465faa2",
   "metadata": {},
   "outputs": [],
   "source": [
    "# See the nested structure of the web page\n",
    "#print(soup.prettify())"
   ]
  },
  {
   "cell_type": "code",
   "execution_count": 84,
   "id": "ef4f299c",
   "metadata": {
    "scrolled": true
   },
   "outputs": [
    {
     "name": "stdout",
     "output_type": "stream",
     "text": [
      "\n",
      "Eid Ul Fitr festival on Tuesday - moon not sighted \n",
      "\n",
      "\n",
      "Gazette issued making full Covid vaccination mandatory, repealed \n",
      "\n",
      "\n",
      "Sri Lanka Rugby Asian membership suspended by Asia Rugby \n",
      "\n",
      "\n",
      "No medicines for baby - couple assaulted for their FB post by MP's brother (Pics)\n",
      "\n",
      "\n",
      "Pakistan's state-run PTV suspends 17 officials\n",
      "\n",
      "\n",
      "New Guidelines for Fuel Transport\n",
      "\n",
      "\n",
      "Demonstration Alert: U.S. Embassy Colombo, Sri Lanka \n",
      "\n",
      "\n",
      "Mirissa prize catch - fish weighing over 500 kilos (Video)\n",
      "\n",
      "\n",
      "Poor economic management has led to instability - Ranil Wickremesinghe (Video) \n",
      "\n",
      "\n",
      "Liquor outlets closed along the May day procession routes \n",
      "\n",
      "\n",
      "Two suspects arrested for illegally storing Gas tanks \n",
      "\n",
      "\n",
      "Suranga Lakmal shines with a maiden 5 wicket haul for Derbyshire \n",
      "\n",
      "\n",
      "May day: International Workers' Day celebrated around the world\n",
      "\n",
      "\n",
      "Showers expected in several areas \n",
      "\n",
      "\n",
      "23 trapped, 39 missing after building collapses in China\n",
      "\n"
     ]
    }
   ],
   "source": [
    "all_news = soup.find_all(class_=\"all-section-tittle\")  # finding the tags\n",
    "\n",
    "# news titles of the page\n",
    "for title in all_news:\n",
    "    print(title.text)"
   ]
  },
  {
   "cell_type": "code",
   "execution_count": 33,
   "id": "3b020668",
   "metadata": {},
   "outputs": [
    {
     "data": {
      "text/plain": [
       "'\\nSri Lanka Rugby Asian membership suspended by Asia Rugby \\n'"
      ]
     },
     "execution_count": 33,
     "metadata": {},
     "output_type": "execute_result"
    }
   ],
   "source": [
    "all_news[0].text"
   ]
  },
  {
   "cell_type": "code",
   "execution_count": 28,
   "id": "11c159ad",
   "metadata": {},
   "outputs": [
    {
     "data": {
      "text/plain": [
       "'https://www.hirunews.lk/english/303272/sri-lanka-rugby-asian-membership-suspended-by-asia-rugby'"
      ]
     },
     "execution_count": 28,
     "metadata": {},
     "output_type": "execute_result"
    }
   ],
   "source": [
    "# link to the whole content\n",
    "url2 = all_news[0].find('a').get('href')\n",
    "url2"
   ]
  },
  {
   "cell_type": "code",
   "execution_count": 29,
   "id": "bf6a656a",
   "metadata": {},
   "outputs": [
    {
     "data": {
      "text/plain": [
       "'\\nAsia Rugby has announced the suspension of the membership of Sri Lanka Rugby: At an Extraordinary Sub Meeting of Asia Rugby Executive Committee (EXCO) it was unanimously decided to ratify the decision of the EXCO at its meeting on 9th April 2022 in Thailand to impose a full and immediate membership suspension until further notice.The EXCO discussed the status report from the Asia Rugby delegate who travelled to Sri Lanka for the period 20th to 24th April 2022, the delegate has met with the relevant stakeholders the Sri Lanka Ministry of Youth and Sport, Sri Lanka National Olympic Committee, the suspended Sri Lanka Rugby, various Clubs’ representatives and the Rugby Referees Association; a consensus was established by all stakeholders that a fresh election is a necessity. Furthermore, the status report transpires a major concern that main stakeholders are not fairly represented in the decision-making environment.In maintaining a sport neutrality and appropriate governance, Asia Rugby confirms that on 29th April, 2022, it has sent an official letter to the Honorable Minister of Youth and Sport Thenuka Vidanagamage revealing its desire to manage, run and conduct a fresh election which shall be called upon by the Sri Lanka National Olympic Committee.Asia Rugby confirms that it will work with the Sri Lanka National Olympic Committee on all relevant details concerning the fresh election and will award the Ministry of Youth and Sport, the Olympic Council of Asia and World Rugby an observatory presence at the potential election to ensure appropriate transparency.Asia Rugby expects a response from the Ministry of Youth and Sport by no later than 6th May 2022.The EXCO decision of suspending Sri Lanka Rugby’s membership has been taken with the interest of maintaining Asia Rugby principles of Equality, Transparency and Accountability and until the fresh election is concluded successfully; all Sri Lanka Rugby representative teams and clubs will no longer be eligible to take part in any regional activities.\\n'"
      ]
     },
     "execution_count": 29,
     "metadata": {},
     "output_type": "execute_result"
    }
   ],
   "source": [
    "# get the news content by loading the url\n",
    "data2 = requests.get(url2).text\n",
    "soup2 = BeautifulSoup(data2, \"html.parser\")\n",
    "soup2.find(id=\"article-phara\").text"
   ]
  },
  {
   "cell_type": "code",
   "execution_count": 34,
   "id": "d6d12b4e",
   "metadata": {},
   "outputs": [],
   "source": [
    "# create a dataframe\n",
    "df = pd.DataFrame(columns=['Title', 'Content'])\n",
    "\n",
    "for article in all_news:\n",
    "    if article != []:\n",
    "        #title\n",
    "        title = article.text\n",
    "        title = re.sub(\"\\n\", \"\", title)\n",
    "        \n",
    "        #content\n",
    "        data2 = requests.get(article.find('a').get('href')).text\n",
    "        soup2 = BeautifulSoup(data2, \"html.parser\")\n",
    "        content = soup2.find(id=\"article-phara\").text\n",
    "        content = re.sub(\"\\n\", \"\", content)\n",
    "        content = re.sub(\"\\u200d\", \"\", content)\n",
    "        \n",
    "        # fill dataframe - append the dictionary\n",
    "        df = df.append({\n",
    "            'Title':title,\n",
    "            'Content':content\n",
    "        }, ignore_index=True)"
   ]
  },
  {
   "cell_type": "code",
   "execution_count": 36,
   "id": "74f9a2c5",
   "metadata": {},
   "outputs": [
    {
     "name": "stdout",
     "output_type": "stream",
     "text": [
      "(15, 2)\n"
     ]
    },
    {
     "data": {
      "text/html": [
       "<div>\n",
       "<style scoped>\n",
       "    .dataframe tbody tr th:only-of-type {\n",
       "        vertical-align: middle;\n",
       "    }\n",
       "\n",
       "    .dataframe tbody tr th {\n",
       "        vertical-align: top;\n",
       "    }\n",
       "\n",
       "    .dataframe thead th {\n",
       "        text-align: right;\n",
       "    }\n",
       "</style>\n",
       "<table border=\"1\" class=\"dataframe\">\n",
       "  <thead>\n",
       "    <tr style=\"text-align: right;\">\n",
       "      <th></th>\n",
       "      <th>Title</th>\n",
       "      <th>Content</th>\n",
       "    </tr>\n",
       "  </thead>\n",
       "  <tbody>\n",
       "    <tr>\n",
       "      <th>0</th>\n",
       "      <td>Sri Lanka Rugby Asian membership suspended by ...</td>\n",
       "      <td>Asia Rugby has announced the suspension of the...</td>\n",
       "    </tr>\n",
       "    <tr>\n",
       "      <th>1</th>\n",
       "      <td>No medicines for baby - couple assaulted for t...</td>\n",
       "      <td>The Kirindiwela Police say that a couple has b...</td>\n",
       "    </tr>\n",
       "    <tr>\n",
       "      <th>2</th>\n",
       "      <td>New Guidelines for Fuel Transport</td>\n",
       "      <td>New Guidelines for Fuel Transport: Train fuel ...</td>\n",
       "    </tr>\n",
       "    <tr>\n",
       "      <th>3</th>\n",
       "      <td>Demonstration Alert: U.S. Embassy Colombo, Sri...</td>\n",
       "      <td>The US Embassy in Sri Lanka has issued a “demo...</td>\n",
       "    </tr>\n",
       "    <tr>\n",
       "      <th>4</th>\n",
       "      <td>Mirissa prize catch - fish weighing over 500 k...</td>\n",
       "      <td>A group of fishermen who left the Weligama - M...</td>\n",
       "    </tr>\n",
       "    <tr>\n",
       "      <th>5</th>\n",
       "      <td>Poor economic management has led to instabilit...</td>\n",
       "      <td>Former Prime Minister and UNP leader Ranil Wic...</td>\n",
       "    </tr>\n",
       "    <tr>\n",
       "      <th>6</th>\n",
       "      <td>Liquor outlets closed along the May day proces...</td>\n",
       "      <td>The Excise Department has announced that liquo...</td>\n",
       "    </tr>\n",
       "    <tr>\n",
       "      <th>7</th>\n",
       "      <td>Two suspects arrested for illegally storing Ga...</td>\n",
       "      <td>Officers of the Intelligence Division of the S...</td>\n",
       "    </tr>\n",
       "    <tr>\n",
       "      <th>8</th>\n",
       "      <td>Suranga Lakmal shines with a maiden 5 wicket h...</td>\n",
       "      <td>Suranga Lakmal’s maiden five-wicket haul for D...</td>\n",
       "    </tr>\n",
       "    <tr>\n",
       "      <th>9</th>\n",
       "      <td>May day: International Workers' Day celebrated...</td>\n",
       "      <td>May Day, also known as International Workers' ...</td>\n",
       "    </tr>\n",
       "    <tr>\n",
       "      <th>10</th>\n",
       "      <td>Showers expected in several areas</td>\n",
       "      <td>The Department of Meteorology says showers wil...</td>\n",
       "    </tr>\n",
       "    <tr>\n",
       "      <th>11</th>\n",
       "      <td>23 trapped, 39 missing after building collapse...</td>\n",
       "      <td>Dozens of people were trapped under a building...</td>\n",
       "    </tr>\n",
       "    <tr>\n",
       "      <th>12</th>\n",
       "      <td>Artiste march to Galle Face in support of the ...</td>\n",
       "      <td>The protest that began at the Galle Face deman...</td>\n",
       "    </tr>\n",
       "    <tr>\n",
       "      <th>13</th>\n",
       "      <td>Special traffic plan for tomorrow</td>\n",
       "      <td>A special traffic plan will be in place for Co...</td>\n",
       "    </tr>\n",
       "    <tr>\n",
       "      <th>14</th>\n",
       "      <td>\"Open up registration for new suppliers to tra...</td>\n",
       "      <td>Kanchana Wijesekera -Minister of Power &amp; Energ...</td>\n",
       "    </tr>\n",
       "  </tbody>\n",
       "</table>\n",
       "</div>"
      ],
      "text/plain": [
       "                                                Title  \\\n",
       "0   Sri Lanka Rugby Asian membership suspended by ...   \n",
       "1   No medicines for baby - couple assaulted for t...   \n",
       "2                   New Guidelines for Fuel Transport   \n",
       "3   Demonstration Alert: U.S. Embassy Colombo, Sri...   \n",
       "4   Mirissa prize catch - fish weighing over 500 k...   \n",
       "5   Poor economic management has led to instabilit...   \n",
       "6   Liquor outlets closed along the May day proces...   \n",
       "7   Two suspects arrested for illegally storing Ga...   \n",
       "8   Suranga Lakmal shines with a maiden 5 wicket h...   \n",
       "9   May day: International Workers' Day celebrated...   \n",
       "10                 Showers expected in several areas    \n",
       "11  23 trapped, 39 missing after building collapse...   \n",
       "12  Artiste march to Galle Face in support of the ...   \n",
       "13                 Special traffic plan for tomorrow    \n",
       "14  \"Open up registration for new suppliers to tra...   \n",
       "\n",
       "                                              Content  \n",
       "0   Asia Rugby has announced the suspension of the...  \n",
       "1   The Kirindiwela Police say that a couple has b...  \n",
       "2   New Guidelines for Fuel Transport: Train fuel ...  \n",
       "3   The US Embassy in Sri Lanka has issued a “demo...  \n",
       "4   A group of fishermen who left the Weligama - M...  \n",
       "5   Former Prime Minister and UNP leader Ranil Wic...  \n",
       "6   The Excise Department has announced that liquo...  \n",
       "7   Officers of the Intelligence Division of the S...  \n",
       "8   Suranga Lakmal’s maiden five-wicket haul for D...  \n",
       "9   May Day, also known as International Workers' ...  \n",
       "10  The Department of Meteorology says showers wil...  \n",
       "11  Dozens of people were trapped under a building...  \n",
       "12  The protest that began at the Galle Face deman...  \n",
       "13  A special traffic plan will be in place for Co...  \n",
       "14  Kanchana Wijesekera -Minister of Power & Energ...  "
      ]
     },
     "execution_count": 36,
     "metadata": {},
     "output_type": "execute_result"
    }
   ],
   "source": [
    "print(df.shape)\n",
    "df"
   ]
  },
  {
   "cell_type": "code",
   "execution_count": 37,
   "id": "4ad51a5b",
   "metadata": {},
   "outputs": [
    {
     "data": {
      "text/plain": [
       "'Asia Rugby has announced the suspension of the membership of Sri Lanka Rugby: At an Extraordinary Sub Meeting of Asia Rugby Executive Committee (EXCO) it was unanimously decided to ratify the decision of the EXCO at its meeting on 9th April 2022 in Thailand to impose a full and immediate membership suspension until further notice.The EXCO discussed the status report from the Asia Rugby delegate who travelled to Sri Lanka for the period 20th to 24th April 2022, the delegate has met with the relevant stakeholders the Sri Lanka Ministry of Youth and Sport, Sri Lanka National Olympic Committee, the suspended Sri Lanka Rugby, various Clubs’ representatives and the Rugby Referees Association; a consensus was established by all stakeholders that a fresh election is a necessity. Furthermore, the status report transpires a major concern that main stakeholders are not fairly represented in the decision-making environment.In maintaining a sport neutrality and appropriate governance, Asia Rugby confirms that on 29th April, 2022, it has sent an official letter to the Honorable Minister of Youth and Sport Thenuka Vidanagamage revealing its desire to manage, run and conduct a fresh election which shall be called upon by the Sri Lanka National Olympic Committee.Asia Rugby confirms that it will work with the Sri Lanka National Olympic Committee on all relevant details concerning the fresh election and will award the Ministry of Youth and Sport, the Olympic Council of Asia and World Rugby an observatory presence at the potential election to ensure appropriate transparency.Asia Rugby expects a response from the Ministry of Youth and Sport by no later than 6th May 2022.The EXCO decision of suspending Sri Lanka Rugby’s membership has been taken with the interest of maintaining Asia Rugby principles of Equality, Transparency and Accountability and until the fresh election is concluded successfully; all Sri Lanka Rugby representative teams and clubs will no longer be eligible to take part in any regional activities.'"
      ]
     },
     "execution_count": 37,
     "metadata": {},
     "output_type": "execute_result"
    }
   ],
   "source": [
    "df.Content[0]"
   ]
  },
  {
   "cell_type": "markdown",
   "id": "42aae80d",
   "metadata": {},
   "source": [
    "## Go through pagination"
   ]
  },
  {
   "cell_type": "markdown",
   "id": "b423b927",
   "metadata": {},
   "source": [
    "#### 1. using 'next page'(>>) icon in the pagination"
   ]
  },
  {
   "cell_type": "code",
   "execution_count": 54,
   "id": "21556955",
   "metadata": {},
   "outputs": [],
   "source": [
    "url = \"https://www.hirunews.lk/english/local-news.php?pageID=1\"\n",
    "r = requests.get(url)\n",
    "soup = BeautifulSoup(r.content, \"html.parser\")"
   ]
  },
  {
   "cell_type": "code",
   "execution_count": null,
   "id": "c1815ba2",
   "metadata": {},
   "outputs": [],
   "source": [
    "# go through all pages until last page - ****This Takes time as website has huge number of pages****\n",
    "urls = []\n",
    "currSoup = soup \n",
    "urls.append(url)  # 1st page\n",
    "\n",
    "while currSoup.find(title =\"next page\"):\n",
    "    nextPage = currSoup.find(title =\"next page\").get('href')\n",
    "    urls.append(nextPage)\n",
    "    \n",
    "    rNext = requests.get(nextPage)\n",
    "    currSoup = BeautifulSoup(rNext.content, \"html.parser\")\n",
    "\n",
    "urls.append(currSoup.find(title =\"next page\").get('href')) # last page"
   ]
  },
  {
   "cell_type": "code",
   "execution_count": 59,
   "id": "4be02bf1",
   "metadata": {
    "scrolled": true
   },
   "outputs": [],
   "source": [
    "for url in urls:\n",
    "    print(url)"
   ]
  },
  {
   "cell_type": "markdown",
   "id": "f5ca6a79",
   "metadata": {},
   "source": [
    "#### 2. Proving the urls manually"
   ]
  },
  {
   "cell_type": "code",
   "execution_count": 76,
   "id": "fa7cd356",
   "metadata": {},
   "outputs": [],
   "source": [
    "url_common = \"https://www.hirunews.lk/english/local-news.php?pageID=\"\n",
    "urls = []"
   ]
  },
  {
   "cell_type": "code",
   "execution_count": 77,
   "id": "757c11b8",
   "metadata": {},
   "outputs": [],
   "source": [
    "# create url list - for simplicity, lets take only 2 urls\n",
    "for x in range(1, 3):\n",
    "    urls.append(url_common+str(x))"
   ]
  },
  {
   "cell_type": "code",
   "execution_count": 78,
   "id": "128ce5b9",
   "metadata": {},
   "outputs": [
    {
     "name": "stdout",
     "output_type": "stream",
     "text": [
      "https://www.hirunews.lk/english/local-news.php?pageID=1\n",
      "https://www.hirunews.lk/english/local-news.php?pageID=2\n"
     ]
    }
   ],
   "source": [
    "for url in urls:\n",
    "    print(url)"
   ]
  },
  {
   "cell_type": "markdown",
   "id": "44735534",
   "metadata": {},
   "source": [
    "Create the dataset by going through pagination. Here, we provide limited number of urls manually. Because we can not use >> icon to go through pages as this website has so many pages(It takes time)."
   ]
  },
  {
   "cell_type": "code",
   "execution_count": 79,
   "id": "fbe7c4e6",
   "metadata": {},
   "outputs": [],
   "source": [
    "df2 = pd.DataFrame(columns = ['Title', 'Content', 'ContentID'])"
   ]
  },
  {
   "cell_type": "code",
   "execution_count": 80,
   "id": "742bbc83",
   "metadata": {},
   "outputs": [],
   "source": [
    "def get_data(url):\n",
    "    global df2\n",
    "    r = requests.get(url)\n",
    "    soup = BeautifulSoup(r.content, \"html.parser\")\n",
    "    all_news = soup.find_all(class_ = \"all-section-tittle\")  # all news per page\n",
    "    \n",
    "    for one_news in all_news:\n",
    "        if (one_news != []):\n",
    "            # title\n",
    "            title = one_news.text\n",
    "            pattern1 = \"\\n|\\u200d\"                    \n",
    "            title = re.sub(pattern1, \"\", title)\n",
    "\n",
    "            # content\n",
    "            contentLink = one_news.find('a').get('href')  # link to the conent page\n",
    "            r_content = requests.get(contentLink) \n",
    "            contentSoup = BeautifulSoup(r_content.content, \"html.parser\")\n",
    "\n",
    "            content = contentSoup.find(id=\"article-phara\").text\n",
    "            pattern2 = \"\\n|\\u200d\"                                 \n",
    "            content = re.sub(pattern2, \"\", content)\n",
    "\n",
    "            # content id\n",
    "            content_id = re.findall(\"www.hirunews.lk\\/english\\/(\\d{1,})\", contentLink)[0]\n",
    "            \n",
    "            # fill columns (append a dictionary)\n",
    "            df2 = df2.append({\n",
    "                \"Title\" : title,\n",
    "                \"Content\" : content,\n",
    "                \"ContentID\" : content_id\n",
    "            }, ignore_index=True)"
   ]
  },
  {
   "cell_type": "code",
   "execution_count": 81,
   "id": "a9c53ff0",
   "metadata": {},
   "outputs": [],
   "source": [
    "import concurrent.futures\n",
    "\n",
    "\n",
    "with concurrent.futures.ThreadPoolExecutor() as executor:      # this reduces the time taken\n",
    "    executor.map(get_data, urls)"
   ]
  },
  {
   "cell_type": "code",
   "execution_count": 82,
   "id": "4314e04c",
   "metadata": {},
   "outputs": [
    {
     "data": {
      "text/html": [
       "<div>\n",
       "<style scoped>\n",
       "    .dataframe tbody tr th:only-of-type {\n",
       "        vertical-align: middle;\n",
       "    }\n",
       "\n",
       "    .dataframe tbody tr th {\n",
       "        vertical-align: top;\n",
       "    }\n",
       "\n",
       "    .dataframe thead th {\n",
       "        text-align: right;\n",
       "    }\n",
       "</style>\n",
       "<table border=\"1\" class=\"dataframe\">\n",
       "  <thead>\n",
       "    <tr style=\"text-align: right;\">\n",
       "      <th></th>\n",
       "      <th>Title</th>\n",
       "      <th>Content</th>\n",
       "      <th>ContentID</th>\n",
       "    </tr>\n",
       "  </thead>\n",
       "  <tbody>\n",
       "    <tr>\n",
       "      <th>0</th>\n",
       "      <td>Eid Ul Fitr festival on Tuesday - moon not sig...</td>\n",
       "      <td>Sri Lankan Muslims will be celebrating the Eid...</td>\n",
       "      <td>303276</td>\n",
       "    </tr>\n",
       "    <tr>\n",
       "      <th>1</th>\n",
       "      <td>Special traffic plan for tomorrow</td>\n",
       "      <td>A special traffic plan will be in place for Co...</td>\n",
       "      <td>303206</td>\n",
       "    </tr>\n",
       "    <tr>\n",
       "      <th>2</th>\n",
       "      <td>Sri Lanka Rugby Asian membership suspended by ...</td>\n",
       "      <td>Asia Rugby has announced the suspension of the...</td>\n",
       "      <td>303272</td>\n",
       "    </tr>\n",
       "    <tr>\n",
       "      <th>3</th>\n",
       "      <td>\"Open up registration for new suppliers to tra...</td>\n",
       "      <td>Kanchana Wijesekera -Minister of Power &amp; Energ...</td>\n",
       "      <td>303202</td>\n",
       "    </tr>\n",
       "    <tr>\n",
       "      <th>4</th>\n",
       "      <td>Treasury bill auction for Rs. 97,500 million t...</td>\n",
       "      <td>A Treasury bill auction worth Rs. 97,500 milli...</td>\n",
       "      <td>303201</td>\n",
       "    </tr>\n",
       "    <tr>\n",
       "      <th>5</th>\n",
       "      <td>No medicines for baby - couple assaulted for t...</td>\n",
       "      <td>The Kirindiwela Police say that a couple has b...</td>\n",
       "      <td>303269</td>\n",
       "    </tr>\n",
       "    <tr>\n",
       "      <th>6</th>\n",
       "      <td>Pakistan's state-run PTV suspends 17 officials</td>\n",
       "      <td>Pakistan's state-run PTV has suspended 17 offi...</td>\n",
       "      <td>303267</td>\n",
       "    </tr>\n",
       "    <tr>\n",
       "      <th>7</th>\n",
       "      <td>Sangha pledge issued calling for the PM and th...</td>\n",
       "      <td>A Sangha pledge was issued today that the Prim...</td>\n",
       "      <td>303198</td>\n",
       "    </tr>\n",
       "    <tr>\n",
       "      <th>8</th>\n",
       "      <td>New Guidelines for Fuel Transport</td>\n",
       "      <td>New Guidelines for Fuel Transport: Train fuel ...</td>\n",
       "      <td>303263</td>\n",
       "    </tr>\n",
       "    <tr>\n",
       "      <th>9</th>\n",
       "      <td>Jacqueline Fernandez's assets worth INR 72M at...</td>\n",
       "      <td>The Indian Enforcement Directorate on Saturday...</td>\n",
       "      <td>303180</td>\n",
       "    </tr>\n",
       "    <tr>\n",
       "      <th>10</th>\n",
       "      <td>Deputy Speaker's tenure comes to an end (Video)</td>\n",
       "      <td>Deputy Speaker Ranjith Siyambalapitiya states ...</td>\n",
       "      <td>303160</td>\n",
       "    </tr>\n",
       "    <tr>\n",
       "      <th>11</th>\n",
       "      <td>Mirissa prize catch - fish weighing over 500 k...</td>\n",
       "      <td>A group of fishermen who left the Weligama - M...</td>\n",
       "      <td>303260</td>\n",
       "    </tr>\n",
       "    <tr>\n",
       "      <th>12</th>\n",
       "      <td>\"No choice but have to increase VAT\" - Ali Sabry</td>\n",
       "      <td>Sri Lanka's finance minister Ali Sabry has tol...</td>\n",
       "      <td>303148</td>\n",
       "    </tr>\n",
       "    <tr>\n",
       "      <th>13</th>\n",
       "      <td>Poor economic management has led to instabilit...</td>\n",
       "      <td>Former Prime Minister and UNP leader Ranil Wic...</td>\n",
       "      <td>303251</td>\n",
       "    </tr>\n",
       "    <tr>\n",
       "      <th>14</th>\n",
       "      <td>Showers expected in several areas</td>\n",
       "      <td>Showers or thundershowers can be expected in p...</td>\n",
       "      <td>303128</td>\n",
       "    </tr>\n",
       "    <tr>\n",
       "      <th>15</th>\n",
       "      <td>Liquor outlets closed along the May day proces...</td>\n",
       "      <td>The Excise Department has announced that liquo...</td>\n",
       "      <td>303235</td>\n",
       "    </tr>\n",
       "    <tr>\n",
       "      <th>16</th>\n",
       "      <td>Price increase of 40% on a total of 60 varieti...</td>\n",
       "      <td>Minister of Health Prof. Channa Jayasumana has...</td>\n",
       "      <td>303126</td>\n",
       "    </tr>\n",
       "    <tr>\n",
       "      <th>17</th>\n",
       "      <td>Two suspects arrested for illegally storing Ga...</td>\n",
       "      <td>Officers of the Intelligence Division of the S...</td>\n",
       "      <td>303230</td>\n",
       "    </tr>\n",
       "    <tr>\n",
       "      <th>18</th>\n",
       "      <td>The Central Bank releases its Annual Report fo...</td>\n",
       "      <td>The Central Bank of Sri Lanka has released its...</td>\n",
       "      <td>303124</td>\n",
       "    </tr>\n",
       "    <tr>\n",
       "      <th>19</th>\n",
       "      <td>Suranga Lakmal shines with a maiden 5 wicket h...</td>\n",
       "      <td>Suranga Lakmal’s maiden five-wicket haul for D...</td>\n",
       "      <td>303227</td>\n",
       "    </tr>\n",
       "    <tr>\n",
       "      <th>20</th>\n",
       "      <td>Anusha Sonali makes her final journey (photos)</td>\n",
       "      <td>Actress Anusha Sonali was laid to rest today (...</td>\n",
       "      <td>303123</td>\n",
       "    </tr>\n",
       "    <tr>\n",
       "      <th>21</th>\n",
       "      <td>Afghanistan: 10 killed in explosion at Kabul m...</td>\n",
       "      <td>A powerful blast has hit a mosque in western K...</td>\n",
       "      <td>303121</td>\n",
       "    </tr>\n",
       "    <tr>\n",
       "      <th>22</th>\n",
       "      <td>May day: International Workers' Day celebrated...</td>\n",
       "      <td>May Day, also known as International Workers' ...</td>\n",
       "      <td>303216</td>\n",
       "    </tr>\n",
       "    <tr>\n",
       "      <th>23</th>\n",
       "      <td>Grand Slam champion Boris Becker jailed</td>\n",
       "      <td>54-year-old six-time Grand Slam champion Boris...</td>\n",
       "      <td>303120</td>\n",
       "    </tr>\n",
       "    <tr>\n",
       "      <th>24</th>\n",
       "      <td>Showers expected in several areas</td>\n",
       "      <td>The Department of Meteorology says showers wil...</td>\n",
       "      <td>303215</td>\n",
       "    </tr>\n",
       "    <tr>\n",
       "      <th>25</th>\n",
       "      <td>23 trapped, 39 missing after building collapse...</td>\n",
       "      <td>Dozens of people were trapped under a building...</td>\n",
       "      <td>303211</td>\n",
       "    </tr>\n",
       "    <tr>\n",
       "      <th>26</th>\n",
       "      <td>Headline inflation increased to 29.8% - Food i...</td>\n",
       "      <td>Headline inflation, as measured by the year-on...</td>\n",
       "      <td>303119</td>\n",
       "    </tr>\n",
       "  </tbody>\n",
       "</table>\n",
       "</div>"
      ],
      "text/plain": [
       "                                                Title  \\\n",
       "0   Eid Ul Fitr festival on Tuesday - moon not sig...   \n",
       "1                  Special traffic plan for tomorrow    \n",
       "2   Sri Lanka Rugby Asian membership suspended by ...   \n",
       "3   \"Open up registration for new suppliers to tra...   \n",
       "4   Treasury bill auction for Rs. 97,500 million t...   \n",
       "5   No medicines for baby - couple assaulted for t...   \n",
       "6      Pakistan's state-run PTV suspends 17 officials   \n",
       "7   Sangha pledge issued calling for the PM and th...   \n",
       "8                   New Guidelines for Fuel Transport   \n",
       "9   Jacqueline Fernandez's assets worth INR 72M at...   \n",
       "10    Deputy Speaker's tenure comes to an end (Video)   \n",
       "11  Mirissa prize catch - fish weighing over 500 k...   \n",
       "12  \"No choice but have to increase VAT\" - Ali Sabry    \n",
       "13  Poor economic management has led to instabilit...   \n",
       "14                 Showers expected in several areas    \n",
       "15  Liquor outlets closed along the May day proces...   \n",
       "16  Price increase of 40% on a total of 60 varieti...   \n",
       "17  Two suspects arrested for illegally storing Ga...   \n",
       "18  The Central Bank releases its Annual Report fo...   \n",
       "19  Suranga Lakmal shines with a maiden 5 wicket h...   \n",
       "20     Anusha Sonali makes her final journey (photos)   \n",
       "21  Afghanistan: 10 killed in explosion at Kabul m...   \n",
       "22  May day: International Workers' Day celebrated...   \n",
       "23            Grand Slam champion Boris Becker jailed   \n",
       "24                 Showers expected in several areas    \n",
       "25  23 trapped, 39 missing after building collapse...   \n",
       "26  Headline inflation increased to 29.8% - Food i...   \n",
       "\n",
       "                                              Content ContentID  \n",
       "0   Sri Lankan Muslims will be celebrating the Eid...    303276  \n",
       "1   A special traffic plan will be in place for Co...    303206  \n",
       "2   Asia Rugby has announced the suspension of the...    303272  \n",
       "3   Kanchana Wijesekera -Minister of Power & Energ...    303202  \n",
       "4   A Treasury bill auction worth Rs. 97,500 milli...    303201  \n",
       "5   The Kirindiwela Police say that a couple has b...    303269  \n",
       "6   Pakistan's state-run PTV has suspended 17 offi...    303267  \n",
       "7   A Sangha pledge was issued today that the Prim...    303198  \n",
       "8   New Guidelines for Fuel Transport: Train fuel ...    303263  \n",
       "9   The Indian Enforcement Directorate on Saturday...    303180  \n",
       "10  Deputy Speaker Ranjith Siyambalapitiya states ...    303160  \n",
       "11  A group of fishermen who left the Weligama - M...    303260  \n",
       "12  Sri Lanka's finance minister Ali Sabry has tol...    303148  \n",
       "13  Former Prime Minister and UNP leader Ranil Wic...    303251  \n",
       "14  Showers or thundershowers can be expected in p...    303128  \n",
       "15  The Excise Department has announced that liquo...    303235  \n",
       "16  Minister of Health Prof. Channa Jayasumana has...    303126  \n",
       "17  Officers of the Intelligence Division of the S...    303230  \n",
       "18  The Central Bank of Sri Lanka has released its...    303124  \n",
       "19  Suranga Lakmal’s maiden five-wicket haul for D...    303227  \n",
       "20  Actress Anusha Sonali was laid to rest today (...    303123  \n",
       "21  A powerful blast has hit a mosque in western K...    303121  \n",
       "22  May Day, also known as International Workers' ...    303216  \n",
       "23  54-year-old six-time Grand Slam champion Boris...    303120  \n",
       "24  The Department of Meteorology says showers wil...    303215  \n",
       "25  Dozens of people were trapped under a building...    303211  \n",
       "26  Headline inflation, as measured by the year-on...    303119  "
      ]
     },
     "execution_count": 82,
     "metadata": {},
     "output_type": "execute_result"
    }
   ],
   "source": [
    "df2"
   ]
  },
  {
   "cell_type": "markdown",
   "id": "46f5e705",
   "metadata": {},
   "source": [
    "Here we store the article id. This is helpful when we want to add only new articles to the database. We can check if the article Id is present in the dataset. If it is not, we apped that article to the dataset. Otherwise ignore"
   ]
  }
 ],
 "metadata": {
  "kernelspec": {
   "display_name": "Python 3",
   "language": "python",
   "name": "python3"
  },
  "language_info": {
   "codemirror_mode": {
    "name": "ipython",
    "version": 3
   },
   "file_extension": ".py",
   "mimetype": "text/x-python",
   "name": "python",
   "nbconvert_exporter": "python",
   "pygments_lexer": "ipython3",
   "version": "3.8.8"
  }
 },
 "nbformat": 4,
 "nbformat_minor": 5
}
